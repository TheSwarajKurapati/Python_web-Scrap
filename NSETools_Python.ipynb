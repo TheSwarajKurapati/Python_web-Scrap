{
  "nbformat": 4,
  "nbformat_minor": 0,
  "metadata": {
    "colab": {
      "provenance": [],
      "authorship_tag": "ABX9TyN4fFcD10whZ0yXOMVD0zPo",
      "include_colab_link": true
    },
    "kernelspec": {
      "name": "python3",
      "display_name": "Python 3"
    },
    "language_info": {
      "name": "python"
    }
  },
  "cells": [
    {
      "cell_type": "markdown",
      "metadata": {
        "id": "view-in-github",
        "colab_type": "text"
      },
      "source": [
        "<a href=\"https://colab.research.google.com/github/TheSwarajKurapati/Python_web-Scrap/blob/main/NSETools_Python.ipynb\" target=\"_parent\"><img src=\"https://colab.research.google.com/assets/colab-badge.svg\" alt=\"Open In Colab\"/></a>"
      ]
    },
    {
      "cell_type": "markdown",
      "source": [
        "Install NSE Tools library\n"
      ],
      "metadata": {
        "id": "hJbnbu_KXLmh"
      }
    },
    {
      "cell_type": "code",
      "source": [
        "from nsetools import Nse\n",
        "from pprint import pprint\n",
        "nse_data = Nse()\n",
        "# pprint(nse_data)\n",
        "print(nse_data)"
      ],
      "metadata": {
        "colab": {
          "base_uri": "https://localhost:8080/"
        },
        "id": "HbafaRV8XP1c",
        "outputId": "e18b090a-f324-4bac-8e56-db8a1b84e82a"
      },
      "execution_count": 10,
      "outputs": [
        {
          "output_type": "stream",
          "name": "stdout",
          "text": [
            "Driver Class for National Stock Exchange (NSE)\n"
          ]
        }
      ]
    },
    {
      "cell_type": "code",
      "source": [
        "pprint(nse_data.get_index_list())"
      ],
      "metadata": {
        "colab": {
          "base_uri": "https://localhost:8080/"
        },
        "id": "FQgr4pgoXez9",
        "outputId": "e550ba2c-ef08-4226-ae85-2dd4fad0a556"
      },
      "execution_count": 9,
      "outputs": [
        {
          "output_type": "stream",
          "name": "stdout",
          "text": [
            "['NIFTY 50 Pre Open',\n",
            " 'NIFTY 50',\n",
            " 'NIFTY NEXT 50',\n",
            " 'NIFTY100 LIQ 15',\n",
            " 'NIFTY BANK',\n",
            " 'INDIA VIX',\n",
            " 'NIFTY 100',\n",
            " 'NIFTY 500',\n",
            " 'NIFTY MIDCAP 100',\n",
            " 'NIFTY MIDCAP 50',\n",
            " 'NIFTY INFRA',\n",
            " 'NIFTY REALTY',\n",
            " 'NIFTY ENERGY',\n",
            " 'NIFTY FMCG',\n",
            " 'NIFTY MNC',\n",
            " 'NIFTY PHARMA',\n",
            " 'NIFTY PSE',\n",
            " 'NIFTY PSU BANK',\n",
            " 'NIFTY SERV SECTOR',\n",
            " 'NIFTY IT',\n",
            " 'NIFTY SMLCAP 100',\n",
            " 'NIFTY 200',\n",
            " 'NIFTY AUTO',\n",
            " 'NIFTY MEDIA',\n",
            " 'NIFTY METAL',\n",
            " 'NIFTY DIV OPPS 50',\n",
            " 'NIFTY COMMODITIES',\n",
            " 'NIFTY CONSUMPTION',\n",
            " 'NIFTY CPSE',\n",
            " 'NIFTY FIN SERVICE',\n",
            " 'NIFTY GROWSECT 15',\n",
            " 'NIFTY50 VALUE 20',\n",
            " 'NIFTY50 TR 2X LEV',\n",
            " 'NIFTY50 PR 2X LEV',\n",
            " 'NIFTY50 TR 1X INV',\n",
            " 'NIFTY50 PR 1X INV',\n",
            " 'NIFTY ALPHA 50',\n",
            " 'NIFTY50 EQL WGT',\n",
            " 'NIFTY100 EQL WGT',\n",
            " 'NIFTY100 LOWVOL30',\n",
            " 'NIFTY MID LIQ 15',\n",
            " 'NIFTY PVT BANK',\n",
            " 'NIFTY100 QUALTY30',\n",
            " 'NIFTY GS 8 13YR',\n",
            " 'NIFTY GS 10YR',\n",
            " 'NIFTY GS 10YR CLN',\n",
            " 'NIFTY GS 4 8YR',\n",
            " 'NIFTY GS 11 15YR',\n",
            " 'NIFTY GS 15YRPLUS',\n",
            " 'NIFTY GS COMPSITE',\n",
            " 'NIFTY MIDCAP 150',\n",
            " 'NIFTY SMLCAP 50',\n",
            " 'NIFTY SMLCAP 250',\n",
            " 'NIFTY MIDSML 400',\n",
            " 'NIFTY200 QUALTY30']\n"
          ]
        }
      ]
    },
    {
      "cell_type": "code",
      "source": [
        "quote = nse_data.get_quote('sbin')\n",
        " \n",
        "# company name\n",
        "print(quote['companyName'])\n",
        " \n",
        "# Sbin buy price\n",
        "print(\"Buy Price : \" + str(quote['buyPrice1']))"
      ],
      "metadata": {
        "colab": {
          "base_uri": "https://localhost:8080/"
        },
        "id": "aRRwM_0DXdMJ",
        "outputId": "2699e9fe-e7a8-49c3-a164-ad7bc0a459cf"
      },
      "execution_count": 11,
      "outputs": [
        {
          "output_type": "stream",
          "name": "stdout",
          "text": [
            "State Bank of India\n",
            "Buy Price : None\n"
          ]
        }
      ]
    }
  ]
}